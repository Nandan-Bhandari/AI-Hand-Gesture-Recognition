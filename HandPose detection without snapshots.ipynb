{
 "cells": [
  {
   "cell_type": "code",
   "execution_count": null,
   "id": "81bbcc17",
   "metadata": {},
   "outputs": [],
   "source": [
    "import mediapipe as mp\n",
    "import cv2\n",
    "\n",
    "mp_drawing = mp.solutions.drawing_utils\n",
    "mp_hands = mp.solutions.hands\n",
    "\n",
    "cap = cv2.VideoCapture(0)\n",
    "\n",
    "with mp_hands.Hands(min_detection_confidence=0.8, min_tracking_confidence=0.5) as hands: \n",
    "    while cap.isOpened():\n",
    "        ret, frame = cap.read()\n",
    "        \n",
    "        # BGR_Image to RGB_Image\n",
    "        hand_image = cv2.cvtColor(frame, cv2.COLOR_BGR2RGB)\n",
    "        \n",
    "        # Flip Image horizontal\n",
    "        hand_image = cv2.flip(hand_image, 1)\n",
    "        \n",
    "        hand_image.flags.writeable = False\n",
    "        \n",
    "        # Results\n",
    "        results = hands.process(hand_image)\n",
    "        \n",
    "        hand_image.flags.writeable = True\n",
    "        \n",
    "        # RGB_Image to BGR_Image\n",
    "        hand_image = cv2.cvtColor(hand_image, cv2.COLOR_RGB2BGR)\n",
    "        \n",
    "        #print(results)\n",
    "        \n",
    "        # Rendering Results\n",
    "        if results.multi_hand_landmarks:\n",
    "            for num, hand in enumerate(results.multi_hand_landmarks):\n",
    "                mp_drawing.draw_landmarks(hand_image, hand, mp_hands.HAND_CONNECTIONS)\n",
    "            \n",
    "        \n",
    "        cv2.imshow('Continueous Image with Hand Tracking', hand_image)\n",
    "\n",
    "        if cv2.waitKey(10) & 0xFF == ord('q'):\n",
    "            break\n",
    "\n",
    "cap.release()\n",
    "cv2.destroyAllWindows()"
   ]
  }
 ],
 "metadata": {
  "kernelspec": {
   "display_name": "Python 3 (ipykernel)",
   "language": "python",
   "name": "python3"
  },
  "language_info": {
   "codemirror_mode": {
    "name": "ipython",
    "version": 3
   },
   "file_extension": ".py",
   "mimetype": "text/x-python",
   "name": "python",
   "nbconvert_exporter": "python",
   "pygments_lexer": "ipython3",
   "version": "3.9.7"
  }
 },
 "nbformat": 4,
 "nbformat_minor": 5
}
